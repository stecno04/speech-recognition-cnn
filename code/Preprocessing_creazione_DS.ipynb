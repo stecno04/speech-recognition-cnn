{
 "cells": [
  {
   "cell_type": "code",
   "execution_count": null,
   "metadata": {},
   "outputs": [],
   "source": [
    "import numpy as np\n",
    "import pandas as pd\n",
    "import os"
   ]
  },
  {
   "cell_type": "code",
   "execution_count": null,
   "metadata": {},
   "outputs": [],
   "source": [
    "import warnings\n",
    "warnings.filterwarnings(\"ignore\")\n",
    "\n",
    "import matplotlib.pyplot as plt\n",
    "from matplotlib import pyplot\n",
    "import numpy as np\n",
    "\n",
    "import librosa\n",
    "import IPython.display as ipd\n",
    "from scipy.io import wavfile\n",
    "\n",
    "import soundfile as sf\n",
    "import noisereduce as nr\n",
    "from pydub import AudioSegment\n",
    "from pydub.playback import play\n",
    "import os"
   ]
  },
  {
   "cell_type": "code",
   "execution_count": null,
   "metadata": {},
   "outputs": [],
   "source": [
    "from sklearn.preprocessing import LabelEncoder\n",
    "from keras import utils as np_utils\n",
    "from sklearn.model_selection import train_test_split\n",
    "from keras.layers import Dense, Dropout, Flatten, Conv1D, Input, MaxPooling1D\n",
    "from keras.models import Model\n",
    "from keras.callbacks import EarlyStopping, ModelCheckpoint\n",
    "from keras import backend as K"
   ]
  },
  {
   "cell_type": "code",
   "execution_count": null,
   "metadata": {},
   "outputs": [],
   "source": [
    "def conta_file_wav(directory):\n",
    "    count = 0\n",
    "    for root, dirs, files in os.walk(directory):\n",
    "        for file in files:\n",
    "            if file.endswith(\".wav\"):\n",
    "                # Costruisci il percorso completo del file\n",
    "                file_path = os.path.join(root, file)\n",
    "                \n",
    "                # Rimuovi caratteri indesiderati dal nome del file\n",
    "                file_path = file_path.replace('\\x00', '')\n",
    "                \n",
    "                # Incrementa il conteggio\n",
    "                count += 1\n",
    "                \n",
    "    return count\n",
    "\n",
    "# Specifica il percorso della cartella da controllare\n",
    "cartella_da_controllare = r\"..\\data\"\n",
    "\n",
    "# Ottieni il conteggio dei file .wav\n",
    "numero_file_wav = conta_file_wav(cartella_da_controllare)\n",
    "\n",
    "# Stampa il risultato\n",
    "print(f\"Numero totale di file .wav: {numero_file_wav}\")"
   ]
  },
  {
   "cell_type": "code",
   "execution_count": null,
   "metadata": {},
   "outputs": [],
   "source": [
    "file_path = r\"..\\data\\speech_commands_v0.01\\go\\0a9f9af7_nohash_0.wav\"\n",
    "\n",
    "\n",
    "# Carica il file audio con il percorso corretto\n",
    "samples, sample_rate = librosa.load(file_path, sr=16000)\n",
    "\n",
    "# Calcola il tempo correttamente\n",
    "time = np.linspace(0, len(samples)/sample_rate, len(samples))\n",
    "\n",
    "# Plotta il grafico\n",
    "fig = plt.figure(figsize=(14, 8))\n",
    "ax1 = fig.add_subplot(211)\n",
    "ax1.set_title('Raw wave of ' + file_path)\n",
    "ax1.set_xlabel('time')\n",
    "ax1.set_ylabel('Amplitude')\n",
    "ax1.plot(time, samples)\n",
    "\n",
    "# Visualizza il grafico\n",
    "plt.show()"
   ]
  },
  {
   "cell_type": "code",
   "execution_count": null,
   "metadata": {},
   "outputs": [],
   "source": [
    "sample_rate=40000\n",
    "samples, sample_rate = librosa.load(r'..\\data\\speech_commands_v0.01\\yes/0a7c2a8d_nohash_0.wav', sr = sample_rate)\n",
    "ipd.Audio(samples, rate=sample_rate)"
   ]
  },
  {
   "cell_type": "code",
   "execution_count": null,
   "metadata": {},
   "outputs": [],
   "source": [
    "\n",
    "\n",
    "file_path = r\"..\\data\\speech_commands_v0.01\\go\\0a9f9af7_nohash_0.wav\"\n",
    "\n",
    "\n",
    "# Resample to the target sampling rate (e.g., 8000 Hz)\n",
    "target_sample_rate = 8000\n",
    "# Load example trumpet signal\n",
    "y, sr = librosa.load(file_path)\n",
    "# Resample to the target sampling rate (e.g., 8000 Hz)\n",
    "samples_resampled = librosa.resample(y, orig_sr=sr, target_sr=8000)\n",
    "\n",
    "# Play the resampled audio\n",
    "ipd.Audio(samples_resampled, rate=target_sample_rate)\n"
   ]
  },
  {
   "cell_type": "code",
   "execution_count": null,
   "metadata": {},
   "outputs": [],
   "source": [
    "train_audio_path = '..\\data\\speech_commands_v0.01/'\n",
    "labels=os.listdir(train_audio_path)"
   ]
  },
  {
   "cell_type": "code",
   "execution_count": null,
   "metadata": {},
   "outputs": [],
   "source": [
    "labels"
   ]
  },
  {
   "cell_type": "code",
   "execution_count": null,
   "metadata": {},
   "outputs": [],
   "source": [
    "#find count of each label and plot bar graph\n",
    "no_of_recordings=[]\n",
    "for label in labels:\n",
    "    waves = [f for f in os.listdir('../data/speech_commands_v0.01' + '/'+ label) if f.endswith('.wav')]\n",
    "    no_of_recordings.append(len(waves))\n",
    "    \n",
    "#plot\n",
    "plt.figure(figsize=(30,5))\n",
    "index = np.arange(len(labels))\n",
    "plt.bar(index, no_of_recordings)\n",
    "plt.xlabel('Commands', fontsize=12)\n",
    "plt.ylabel('No of recordings', fontsize=12)\n",
    "plt.xticks(index, labels, fontsize=15, rotation=60)\n",
    "plt.title('No. of recordings for each command')\n",
    "plt.show()\n"
   ]
  },
  {
   "cell_type": "code",
   "execution_count": null,
   "metadata": {},
   "outputs": [],
   "source": [
    "train_audio_path = '../data/speech_commands_v0.01/'\n",
    "labels = os.listdir(train_audio_path)\n",
    "\n",
    "duration_of_recordings = []\n",
    "\n",
    "for label in labels:\n",
    "    waves = [f for f in os.listdir(os.path.join(train_audio_path, label)) if f.endswith('.wav')]\n",
    "    for wav in waves:\n",
    "        _, samples = wavfile.read(os.path.join(train_audio_path, label, wav))\n",
    "        duration_of_recordings.append(float(len(samples) / sample_rate))\n",
    "plt.hist(np.array(duration_of_recordings))\n",
    "plt.xlabel('Duration (s)')\n",
    "plt.ylabel('Count')\n",
    "plt.show()"
   ]
  },
  {
   "cell_type": "code",
   "execution_count": null,
   "metadata": {},
   "outputs": [],
   "source": [
    "def remove_noise(input_file, output_file):\n",
    "    # Carica la traccia audio\n",
    "    audio = AudioSegment.from_file(input_file)\n",
    "\n",
    "    # Estrai le caratteristiche del rumore (i primi 1 secondo)\n",
    "    noise = audio[:1000]\n",
    "\n",
    "    # Rimuovi il rumore\n",
    "    reduced_noise = audio.overlay(noise, position=0)\n",
    "\n",
    "    # Salva il risultato\n",
    "    reduced_noise.export(output_file, format=\"wav\")"
   ]
  },
  {
   "cell_type": "code",
   "execution_count": null,
   "metadata": {},
   "outputs": [],
   "source": [
    "all_wave = []\n",
    "all_label = []\n",
    "for label in labels:\n",
    "    print(label)\n",
    "    waves = [f for f in os.listdir(train_audio_path + '/'+ label) if f.endswith('.wav')]\n",
    "    for wav in waves:\n",
    "        reduced_noise = remove_noise(train_audio_path + '/' + label + '/' + wav, train_audio_path + '/' + label + '/' + wav)\n",
    "        # Load example trumpet signal\n",
    "        y, sr = librosa.load(train_audio_path + '/' + label + '/' + wav, sr = 16000)\n",
    "        # Resample to the target sampling rate (e.g., 8000 Hz)\n",
    "        samples = librosa.resample(y, orig_sr=sr, target_sr=8000)\n",
    "\n",
    "        if(len(samples)== 8000) : \n",
    "            all_wave.append(samples)\n",
    "            all_label.append(label)"
   ]
  },
  {
   "cell_type": "code",
   "execution_count": null,
   "metadata": {},
   "outputs": [],
   "source": [
    "print(type(all_wave))\n",
    "print(len(all_wave))"
   ]
  },
  {
   "cell_type": "code",
   "execution_count": null,
   "metadata": {},
   "outputs": [],
   "source": [
    "print(len(all_wave))\n",
    "print(all_wave[1].shape)\n",
    "all_wave[1]"
   ]
  },
  {
   "cell_type": "code",
   "execution_count": null,
   "metadata": {},
   "outputs": [],
   "source": [
    "len(set(all_label))"
   ]
  },
  {
   "cell_type": "code",
   "execution_count": null,
   "metadata": {},
   "outputs": [],
   "source": [
    "classes"
   ]
  }
 ],
 "metadata": {
  "kernelspec": {
   "display_name": "Python 3",
   "language": "python",
   "name": "python3"
  },
  "language_info": {
   "codemirror_mode": {
    "name": "ipython",
    "version": 3
   },
   "file_extension": ".py",
   "mimetype": "text/x-python",
   "name": "python",
   "nbconvert_exporter": "python",
   "pygments_lexer": "ipython3",
   "version": "3.11.6"
  }
 },
 "nbformat": 4,
 "nbformat_minor": 2
}
